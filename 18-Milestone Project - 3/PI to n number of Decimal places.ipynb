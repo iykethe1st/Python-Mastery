{
 "cells": [
  {
   "cell_type": "code",
   "execution_count": 5,
   "metadata": {},
   "outputs": [],
   "source": [
    "#import multp-precision module\n",
    "from mpmath import mp\n",
    "#define PI function\n",
    "def pi_func():\n",
    "    while True:\n",
    "        #request input from user\n",
    "        try:\n",
    "            entry = input(\"Please enter an number of decimal places to which the value of PI should be calculated\\nEnter 'quit' to cancel: \")\n",
    "            #condition for quit\n",
    "            if entry == 'quit':\n",
    "                break\n",
    "            #modify input for computation\n",
    "            mp.dps = int(entry) +1\n",
    "        #condition for input error\n",
    "        except:\n",
    "            print(\"Looks like you did not enter an integer!\")\n",
    "            continue\n",
    "        #execute and print result\n",
    "        else:\n",
    "            print(mp.pi)\n",
    "            continue\n",
    "        "
   ]
  },
  {
   "cell_type": "raw",
   "metadata": {},
   "source": []
  },
  {
   "cell_type": "code",
   "execution_count": null,
   "metadata": {},
   "outputs": [],
   "source": []
  }
 ],
 "metadata": {
  "kernelspec": {
   "display_name": "Python 3",
   "language": "python",
   "name": "python3"
  },
  "language_info": {
   "codemirror_mode": {
    "name": "ipython",
    "version": 3
   },
   "file_extension": ".py",
   "mimetype": "text/x-python",
   "name": "python",
   "nbconvert_exporter": "python",
   "pygments_lexer": "ipython3",
   "version": "3.8.5"
  }
 },
 "nbformat": 4,
 "nbformat_minor": 4
}
