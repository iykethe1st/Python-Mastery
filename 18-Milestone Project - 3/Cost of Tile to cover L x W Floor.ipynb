{
 "cells": [
  {
   "cell_type": "code",
   "execution_count": 1,
   "metadata": {},
   "outputs": [],
   "source": [
    "def tiling_cost():\n",
    "    while True:\n",
    "        try:\n",
    "            single_tile = float(input('Enter cost of single tile: ₦'))\n",
    "            width = float(input('Enter Width of floor: (m)'))\n",
    "            length = float(input('Enter Length of floor: (m)'))\n",
    "            total_cost = width * length * single_tile\n",
    "        except ValueError:\n",
    "            print('Wrong input! Please enter a numerical value: (m)')\n",
    "            continue\n",
    "        else:\n",
    "             print(f'Cost of tile for a {width} x {length} floor is: ₦{total_cost}')\n",
    "        choice = input('Do you want to calculate again? Enter Yes or No: ').lower().startswith('y')\n",
    "        if not choice:\n",
    "            break"
   ]
  }
 ],
 "metadata": {
  "kernelspec": {
   "display_name": "Python 3",
   "language": "python",
   "name": "python3"
  },
  "language_info": {
   "codemirror_mode": {
    "name": "ipython",
    "version": 3
   },
   "file_extension": ".py",
   "mimetype": "text/x-python",
   "name": "python",
   "nbconvert_exporter": "python",
   "pygments_lexer": "ipython3",
   "version": "3.8.5"
  }
 },
 "nbformat": 4,
 "nbformat_minor": 4
}
